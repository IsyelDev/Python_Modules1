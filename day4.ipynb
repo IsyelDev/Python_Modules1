{
 "cells": [
  {
   "cell_type": "code",
   "execution_count": 85,
   "id": "0cf4153a",
   "metadata": {},
   "outputs": [
    {
     "name": "stdout",
     "output_type": "stream",
     "text": [
      "Pinturas: rojo, azul y amarillo. Verde: mezcla de azul y amarillo. Naranja: mezcla de rojo y amarillo. Morado: mezcla de rojo y azul\n"
     ]
    }
   ],
   "source": [
    "mezclas = ['Pinturas: rojo, azul y amarillo',\n",
    "            'Verde: mezcla de azul y amarillo',\n",
    "            'Naranja: mezcla de rojo y amarillo',\n",
    "            'Morado: mezcla de rojo y azul']\n",
    "\n",
    "union =\". \"\n",
    "\n",
    "cadena_unida = union.join(mezclas)\n",
    "print(cadena_unida)\n"
   ]
  },
  {
   "cell_type": "code",
   "execution_count": 86,
   "id": "fda48b79",
   "metadata": {},
   "outputs": [
    {
     "name": "stdout",
     "output_type": "stream",
     "text": [
      "[['Pinturas:', 'rojo,', 'azul', 'y', 'amarillo'], ['Verde:', 'mezcla', 'de', 'azul', 'y', 'amarillo'], ['Naranja:', 'mezcla', 'de', 'rojo', 'y', 'amarillo'], ['Morado:', 'mezcla', 'de', 'rojo', 'y', 'azul']]\n"
     ]
    }
   ],
   "source": [
    "mezclas = ['Pinturas: rojo, azul y amarillo',\n",
    "            'Verde: mezcla de azul y amarillo',\n",
    "            'Naranja: mezcla de rojo y amarillo',\n",
    "            'Morado: mezcla de rojo y azul']\n",
    "separador =[ mezclita.split() for mezclita in mezclas]\n",
    "print(separador)"
   ]
  },
  {
   "cell_type": "code",
   "execution_count": 87,
   "id": "9937fb4a",
   "metadata": {},
   "outputs": [
    {
     "name": "stdout",
     "output_type": "stream",
     "text": [
      "P y t h o n\n",
      "PYPHON\n"
     ]
    }
   ],
   "source": [
    "lenguaje = 'Python'\n",
    "print(lenguaje[0], lenguaje[1], lenguaje[2], lenguaje[-3], lenguaje[-2], lenguaje[-1])\n",
    "nuevo = lenguaje.replace(\"t\",\"P\").upper()\n",
    "print(nuevo)"
   ]
  },
  {
   "cell_type": "code",
   "execution_count": 88,
   "id": "76ff157c",
   "metadata": {},
   "outputs": [
    {
     "data": {
      "text/plain": [
       "['__add__',\n",
       " '__class__',\n",
       " '__class_getitem__',\n",
       " '__contains__',\n",
       " '__delattr__',\n",
       " '__delitem__',\n",
       " '__dir__',\n",
       " '__doc__',\n",
       " '__eq__',\n",
       " '__format__',\n",
       " '__ge__',\n",
       " '__getattribute__',\n",
       " '__getitem__',\n",
       " '__getstate__',\n",
       " '__gt__',\n",
       " '__hash__',\n",
       " '__iadd__',\n",
       " '__imul__',\n",
       " '__init__',\n",
       " '__init_subclass__',\n",
       " '__iter__',\n",
       " '__le__',\n",
       " '__len__',\n",
       " '__lt__',\n",
       " '__mul__',\n",
       " '__ne__',\n",
       " '__new__',\n",
       " '__reduce__',\n",
       " '__reduce_ex__',\n",
       " '__repr__',\n",
       " '__reversed__',\n",
       " '__rmul__',\n",
       " '__setattr__',\n",
       " '__setitem__',\n",
       " '__sizeof__',\n",
       " '__str__',\n",
       " '__subclasshook__',\n",
       " 'append',\n",
       " 'clear',\n",
       " 'copy',\n",
       " 'count',\n",
       " 'extend',\n",
       " 'index',\n",
       " 'insert',\n",
       " 'pop',\n",
       " 'remove',\n",
       " 'reverse',\n",
       " 'sort']"
      ]
     },
     "execution_count": 88,
     "metadata": {},
     "output_type": "execute_result"
    }
   ],
   "source": [
    "lista = [1,2,3]\n",
    "dir(lista)"
   ]
  },
  {
   "cell_type": "markdown",
   "id": "fd7a1b57",
   "metadata": {},
   "source": [
    "### 1 - Crea un programa que tenga la siguiente lista con los gastos de una empresa de papel [2172.54, 3701.35, 3518.09, 3456.61, 3249.38, 2840.82, 3891.45, 3075.26, 2317.64, 3219.08]. Con estos valores, crea un programa que calcule el promedio de gastos. Sugerencia: usa las funciones integradas sum() y len()."
   ]
  },
  {
   "cell_type": "code",
   "execution_count": 89,
   "id": "9d9177c2",
   "metadata": {},
   "outputs": [
    {
     "name": "stdout",
     "output_type": "stream",
     "text": [
      "El promedio de los gastos es: 3144.22\n"
     ]
    }
   ],
   "source": [
    "def IngresarDatos(gastos):\n",
    "    if not gastos:\n",
    "        print(\"Datos vacios\")\n",
    "        return None\n",
    "    \n",
    "    return sum(gastos)/len(gastos)\n",
    "\n",
    "def maine():\n",
    "    gastos= [2172.54, 3701.35, 3518.09, 3456.61, 3249.38, 2840.82, 3891.45, 3075.26, 2317.64, 3219.08]\n",
    "    resultado = IngresarDatos(gastos)\n",
    "    if resultado is not None:\n",
    "          print(f\"El promedio de los gastos es: {resultado:.2f}\")\n",
    "\n",
    "if __name__== \"__main__\":\n",
    "    maine()"
   ]
  },
  {
   "cell_type": "markdown",
   "id": "8d074d5b",
   "metadata": {},
   "source": [
    "###  Con los mismos datos de la pregunta anterior, determina cuántas compras se realizaron por encima de 3000 reales y calcula el porcentaje con respecto al total de compras."
   ]
  },
  {
   "cell_type": "code",
   "execution_count": 90,
   "id": "e9cb0f27",
   "metadata": {},
   "outputs": [
    {
     "name": "stdout",
     "output_type": "stream",
     "text": [
      "Compras por encima de 3000 reales: 7\n",
      "Porcentaje con respecto al total: 70.00%\n"
     ]
    }
   ],
   "source": [
    "def CalcularMontos(array):\n",
    "    if not array:\n",
    "        print(\"Datos vacíos\")\n",
    "        return None\n",
    "\n",
    "    # Contamos las compras por encima de 3000\n",
    "    compras_por_encima = sum(1 for compra in array if compra > 3000)\n",
    "\n",
    "    # Calculamos el porcentaje con respecto al total de compras\n",
    "    total_compras = len(array)\n",
    "    if total_compras == 0:\n",
    "        porcentaje = 0\n",
    "    else:\n",
    "        porcentaje = (compras_por_encima / total_compras) * 100\n",
    "    \n",
    "    return compras_por_encima, porcentaje\n",
    "\n",
    "def menu():\n",
    "    gastos = [2172.54, 3701.35, 3518.09, 3456.61, 3249.38, 2840.82, 3891.45, 3075.26, 2317.64, 3219.08]\n",
    "    resultado = CalcularMontos(gastos)\n",
    "    \n",
    "    if resultado is not None:\n",
    "        compras_por_encima, porcentaje = resultado\n",
    "        print(f\"Compras por encima de 3000 reales: {compras_por_encima}\")\n",
    "        print(f\"Porcentaje con respecto al total: {porcentaje:.2f}%\")\n",
    "\n",
    "if __name__ == \"__main__\":\n",
    "    menu()\n"
   ]
  },
  {
   "cell_type": "code",
   "execution_count": 91,
   "id": "ace3d0c5",
   "metadata": {},
   "outputs": [
    {
     "name": "stdout",
     "output_type": "stream",
     "text": [
      "7\n"
     ]
    }
   ],
   "source": [
    "gastos = [2172.54, 3701.35, 3518.09, 3456.61, 3249.38, 2840.82, 3891.45, 3075.26, 2317.64, 3219.08]\n",
    "compras = sum(1 for g in gastos if g>3000)\n",
    "print(compras)"
   ]
  },
  {
   "cell_type": "markdown",
   "id": "c4f4aa53",
   "metadata": {},
   "source": [
    "### 3 - Crea un código que recoja en una lista 5 números enteros aleatorios e imprima la lista. Ejemplo: [1, 4, 7, 2, 4]."
   ]
  },
  {
   "cell_type": "code",
   "execution_count": 92,
   "id": "6c76c034",
   "metadata": {},
   "outputs": [
    {
     "name": "stdout",
     "output_type": "stream",
     "text": [
      "[4, 6, 3, 2, 14]\n"
     ]
    }
   ],
   "source": [
    "import random\n",
    "lista =[]\n",
    "for i in range(5):\n",
    "    numero = random.randint(1,15)\n",
    "    lista.append(numero)\n",
    "print(lista)"
   ]
  },
  {
   "cell_type": "code",
   "execution_count": 93,
   "id": "0b3e5800",
   "metadata": {},
   "outputs": [
    {
     "name": "stdout",
     "output_type": "stream",
     "text": [
      "[6, 2, 7, 4, 8]\n",
      "[8, 4, 7, 2, 6]\n",
      "[8, 7, 6, 4, 2]\n"
     ]
    }
   ],
   "source": [
    "import random\n",
    "lista =[]\n",
    "for i in range(5):\n",
    "    numero = random.randint(1,20)\n",
    "    lista.append(numero)\n",
    "print(lista)\n",
    "\n",
    "print(lista[::-1])\n",
    "reverso = sorted(lista ,reverse=True)\n",
    "print(reverso)\n",
    "\n"
   ]
  },
  {
   "cell_type": "code",
   "execution_count": 96,
   "id": "77b599d8",
   "metadata": {},
   "outputs": [
    {
     "data": {
      "text/plain": [
       "False"
      ]
     },
     "execution_count": 96,
     "metadata": {},
     "output_type": "execute_result"
    }
   ],
   "source": [
    "10 in lista"
   ]
  },
  {
   "cell_type": "code",
   "execution_count": 94,
   "id": "17c8c5d7",
   "metadata": {},
   "outputs": [],
   "source": [
    "### 5 - Crea un programa que, al ingresar un número cualquiera, genere una lista que contenga todos los números primos entre 1 y el número ingresado."
   ]
  },
  {
   "cell_type": "code",
   "execution_count": null,
   "id": "df126830",
   "metadata": {},
   "outputs": [],
   "source": [
    "numero = int(input('Ingresa un número entero: '))\n",
    "# Lista para almacenar los números primos\n",
    "lista_primos = []\n",
    "\n",
    "for num in range(2, numero):\n",
    "    primo = True\n",
    "\n",
    "    "
   ]
  }
 ],
 "metadata": {
  "kernelspec": {
   "display_name": "venv",
   "language": "python",
   "name": "python3"
  },
  "language_info": {
   "codemirror_mode": {
    "name": "ipython",
    "version": 3
   },
   "file_extension": ".py",
   "mimetype": "text/x-python",
   "name": "python",
   "nbconvert_exporter": "python",
   "pygments_lexer": "ipython3",
   "version": "3.13.1"
  }
 },
 "nbformat": 4,
 "nbformat_minor": 5
}
