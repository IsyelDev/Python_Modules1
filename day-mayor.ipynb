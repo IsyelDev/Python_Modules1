{
 "cells": [
  {
   "cell_type": "code",
   "execution_count": 11,
   "id": "88d23f05",
   "metadata": {},
   "outputs": [
    {
     "name": "stdout",
     "output_type": "stream",
     "text": [
      "e\n"
     ]
    }
   ],
   "source": [
    "def obtenerNombre():\n",
    "    return input(\"Ingrese su nombre\")\n",
    "\n",
    "\n",
    "if __name__==\"__main__\":\n",
    "   nodal = obtenerNombre()\n",
    "   print(nodal)\n",
    "   obtenerNumero(\"numero\")"
   ]
  },
  {
   "cell_type": "code",
   "execution_count": null,
   "id": "48bd645c",
   "metadata": {},
   "outputs": [],
   "source": [
    "def obtenerNumero(mensaje):\n",
    "    \"\"\"Solicita al usuario un número entero y lo devuelve.\"\"\"\n",
    "    while True:\n",
    "        try:\n",
    "            return input(mensaje)\n",
    "        except ValueError:\n",
    "            print(\"EOFError\")"
   ]
  }
 ],
 "metadata": {
  "kernelspec": {
   "display_name": "venv",
   "language": "python",
   "name": "python3"
  },
  "language_info": {
   "codemirror_mode": {
    "name": "ipython",
    "version": 3
   },
   "file_extension": ".py",
   "mimetype": "text/x-python",
   "name": "python",
   "nbconvert_exporter": "python",
   "pygments_lexer": "ipython3",
   "version": "3.13.1"
  }
 },
 "nbformat": 4,
 "nbformat_minor": 5
}
