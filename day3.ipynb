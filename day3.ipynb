{
 "cells": [
  {
   "cell_type": "code",
   "execution_count": null,
   "id": "cdcace84",
   "metadata": {},
   "outputs": [
    {
     "name": "stdout",
     "output_type": "stream",
     "text": [
      "12.5\n"
     ]
    }
   ],
   "source": [
    "def ingresarNotas(mensaje):\n",
    "    while True:\n",
    "        try:\n",
    "            return float(input(mensaje))\n",
    "        except ValueError:\n",
    "            print(\"Error: Ingrese un número válido.\")\n",
    "\n",
    "\n",
    "def cantidadNotas():\n",
    "    cantidad = int(input(\"Ingrese la cantidad de alumnos que desea ingresar: \"))\n",
    "    cantidadNotas = int(input(\"Ingrese la cantidad de notas por alumno: \"))\n",
    "    Notas = []\n",
    "\n",
    "    for i in range(cantidad):\n",
    "        notasAlumno = []\n",
    "        print(f\"\\nIngresando notas para el alumno {i+1}:\")\n",
    "        for j in range(cantidadNotas):\n",
    "            valor = ingresarNotas(f\"Ingrese la nota {j+1}: \")\n",
    "            notasAlumno.append(valor)\n",
    "        Notas.append(notasAlumno)\n",
    "\n",
    "    return Notas\n",
    "\n",
    "\n",
    "def PromedioNotas(listaNotas):\n",
    "    promedios = []\n",
    "    for i, notas in enumerate(listaNotas):\n",
    "        promedio = sum(notas) / len(notas)\n",
    "        promedios.append(promedio)\n",
    "    return promedios\n",
    "\n",
    "\n",
    "def main():\n",
    "    notas = cantidadNotas()\n",
    "    promedios = PromedioNotas(notas)\n",
    "\n",
    "    print(\"\\nPromedios por alumno:\")\n",
    "    for i, promedio in enumerate(promedios):\n",
    "        print(f\"Alumno {i+1}: {promedio:.2f}\")\n",
    "\n",
    "\n",
    "if __name__ == \"__main__\":\n",
    "    main()\n"
   ]
  },
  {
   "cell_type": "markdown",
   "id": "0b3fa537",
   "metadata": {},
   "source": [
    "### 1 - Escribe un programa que solicite dos números enteros e imprima todos los números enteros entre ellos."
   ]
  },
  {
   "cell_type": "code",
   "execution_count": 20,
   "id": "ff2c9312",
   "metadata": {},
   "outputs": [
    {
     "name": "stdout",
     "output_type": "stream",
     "text": [
      "Mostrando los números del rango:\n",
      "1\n",
      "2\n",
      "3\n",
      "4\n",
      "5\n",
      "6\n",
      "7\n",
      "8\n",
      "9\n",
      "10\n",
      "Saliendo del programa.\n"
     ]
    }
   ],
   "source": [
    "def IngresoNumeros():\n",
    "    while True:\n",
    "        try:\n",
    "            numeroInicio = int(input(\"Ingrese el numero de inicio\"))\n",
    "            numeroFin = int(input(\"Ingrese el numero de fin\"))\n",
    "\n",
    "            if numeroInicio > numeroFin:\n",
    "                 print(\"El número de inicio debe ser menor o igual al de fin.\")\n",
    "                 continue\n",
    "            \n",
    "            print(\"Mostrando los números del rango:\")\n",
    "            while numeroInicio <= numeroFin:\n",
    "                print(numeroInicio)\n",
    "                numeroInicio += 1\n",
    "            \n",
    "            salir = input(\"¿Deseas ingresar otro rango? (s/n): \")\n",
    "            if salir.lower() != 's':\n",
    "                print(\"Saliendo del programa.\")\n",
    "                break\n",
    "\n",
    "        except ValueError:\n",
    "            print(\"Error en todo\")\n",
    "   \n",
    "if __name__==\"__main__\":\n",
    "    IngresoNumeros()"
   ]
  }
 ],
 "metadata": {
  "kernelspec": {
   "display_name": "venv",
   "language": "python",
   "name": "python3"
  },
  "language_info": {
   "codemirror_mode": {
    "name": "ipython",
    "version": 3
   },
   "file_extension": ".py",
   "mimetype": "text/x-python",
   "name": "python",
   "nbconvert_exporter": "python",
   "pygments_lexer": "ipython3",
   "version": "3.13.1"
  }
 },
 "nbformat": 4,
 "nbformat_minor": 5
}
