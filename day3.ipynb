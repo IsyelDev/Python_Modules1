{
 "cells": [
  {
   "cell_type": "code",
   "execution_count": 22,
   "id": "cdcace84",
   "metadata": {},
   "outputs": [
    {
     "ename": "ValueError",
     "evalue": "invalid literal for int() with base 10: ''",
     "output_type": "error",
     "traceback": [
      "\u001b[31m---------------------------------------------------------------------------\u001b[39m",
      "\u001b[31mValueError\u001b[39m                                Traceback (most recent call last)",
      "\u001b[36mCell\u001b[39m\u001b[36m \u001b[39m\u001b[32mIn[22]\u001b[39m\u001b[32m, line 43\u001b[39m\n\u001b[32m     39\u001b[39m         \u001b[38;5;28mprint\u001b[39m(\u001b[33mf\u001b[39m\u001b[33m\"\u001b[39m\u001b[33mAlumno \u001b[39m\u001b[38;5;132;01m{\u001b[39;00mi+\u001b[32m1\u001b[39m\u001b[38;5;132;01m}\u001b[39;00m\u001b[33m: \u001b[39m\u001b[38;5;132;01m{\u001b[39;00mpromedio\u001b[38;5;132;01m:\u001b[39;00m\u001b[33m.2f\u001b[39m\u001b[38;5;132;01m}\u001b[39;00m\u001b[33m\"\u001b[39m)\n\u001b[32m     42\u001b[39m \u001b[38;5;28;01mif\u001b[39;00m \u001b[34m__name__\u001b[39m == \u001b[33m\"\u001b[39m\u001b[33m__main__\u001b[39m\u001b[33m\"\u001b[39m:\n\u001b[32m---> \u001b[39m\u001b[32m43\u001b[39m     \u001b[43mmain\u001b[49m\u001b[43m(\u001b[49m\u001b[43m)\u001b[49m\n",
      "\u001b[36mCell\u001b[39m\u001b[36m \u001b[39m\u001b[32mIn[22]\u001b[39m\u001b[32m, line 34\u001b[39m, in \u001b[36mmain\u001b[39m\u001b[34m()\u001b[39m\n\u001b[32m     33\u001b[39m \u001b[38;5;28;01mdef\u001b[39;00m\u001b[38;5;250m \u001b[39m\u001b[34mmain\u001b[39m():\n\u001b[32m---> \u001b[39m\u001b[32m34\u001b[39m     notas = \u001b[43mcantidadNotas\u001b[49m\u001b[43m(\u001b[49m\u001b[43m)\u001b[49m\n\u001b[32m     35\u001b[39m     promedios = PromedioNotas(notas)\n\u001b[32m     37\u001b[39m     \u001b[38;5;28mprint\u001b[39m(\u001b[33m\"\u001b[39m\u001b[38;5;130;01m\\n\u001b[39;00m\u001b[33mPromedios por alumno:\u001b[39m\u001b[33m\"\u001b[39m)\n",
      "\u001b[36mCell\u001b[39m\u001b[36m \u001b[39m\u001b[32mIn[22]\u001b[39m\u001b[32m, line 10\u001b[39m, in \u001b[36mcantidadNotas\u001b[39m\u001b[34m()\u001b[39m\n\u001b[32m      9\u001b[39m \u001b[38;5;28;01mdef\u001b[39;00m\u001b[38;5;250m \u001b[39m\u001b[34mcantidadNotas\u001b[39m():\n\u001b[32m---> \u001b[39m\u001b[32m10\u001b[39m     cantidad = \u001b[38;5;28;43mint\u001b[39;49m\u001b[43m(\u001b[49m\u001b[38;5;28;43minput\u001b[39;49m\u001b[43m(\u001b[49m\u001b[33;43m\"\u001b[39;49m\u001b[33;43mIngrese la cantidad de alumnos que desea ingresar: \u001b[39;49m\u001b[33;43m\"\u001b[39;49m\u001b[43m)\u001b[49m\u001b[43m)\u001b[49m\n\u001b[32m     11\u001b[39m     cantidadNotas = \u001b[38;5;28mint\u001b[39m(\u001b[38;5;28minput\u001b[39m(\u001b[33m\"\u001b[39m\u001b[33mIngrese la cantidad de notas por alumno: \u001b[39m\u001b[33m\"\u001b[39m))\n\u001b[32m     12\u001b[39m     Notas = []\n",
      "\u001b[31mValueError\u001b[39m: invalid literal for int() with base 10: ''"
     ]
    }
   ],
   "source": [
    "def ingresarNotas(mensaje):\n",
    "    while True:\n",
    "        try:\n",
    "            return float(input(mensaje))\n",
    "        except ValueError:\n",
    "            print(\"Error: Ingrese un número válido.\")\n",
    "\n",
    "\n",
    "def cantidadNotas():\n",
    "    cantidad = int(input(\"Ingrese la cantidad de alumnos que desea ingresar: \"))\n",
    "    cantidadNotas = int(input(\"Ingrese la cantidad de notas por alumno: \"))\n",
    "    Notas = []\n",
    "\n",
    "    for i in range(cantidad):\n",
    "        notasAlumno = []\n",
    "        print(f\"\\nIngresando notas para el alumno {i+1}:\")\n",
    "        for j in range(cantidadNotas):\n",
    "            valor = ingresarNotas(f\"Ingrese la nota {j+1}: \")\n",
    "            notasAlumno.append(valor)\n",
    "        Notas.append(notasAlumno)\n",
    "\n",
    "    return Notas\n",
    "\n",
    "\n",
    "def PromedioNotas(listaNotas):\n",
    "    promedios = []\n",
    "    for i, notas in enumerate(listaNotas):\n",
    "        promedio = sum(notas) / len(notas)\n",
    "        promedios.append(promedio)\n",
    "    return promedios\n",
    "\n",
    "\n",
    "def main():\n",
    "    notas = cantidadNotas()\n",
    "    promedios = PromedioNotas(notas)\n",
    "\n",
    "    print(\"\\nPromedios por alumno:\")\n",
    "    for i, promedio in enumerate(promedios):\n",
    "        print(f\"Alumno {i+1}: {promedio:.2f}\")\n",
    "\n",
    "\n",
    "if __name__ == \"__main__\":\n",
    "    main()\n"
   ]
  },
  {
   "cell_type": "markdown",
   "id": "0b3fa537",
   "metadata": {},
   "source": [
    "### 1 - Escribe un programa que solicite dos números enteros e imprima todos los números enteros entre ellos."
   ]
  },
  {
   "cell_type": "code",
   "execution_count": null,
   "id": "ff2c9312",
   "metadata": {},
   "outputs": [
    {
     "name": "stdout",
     "output_type": "stream",
     "text": [
      "Mostrando los números del rango:\n",
      "1\n",
      "2\n",
      "3\n",
      "4\n",
      "5\n",
      "6\n",
      "7\n",
      "8\n",
      "9\n",
      "10\n",
      "Saliendo del programa.\n"
     ]
    }
   ],
   "source": [
    "def IngresoNumeros():\n",
    "    while True:\n",
    "        try:\n",
    "            numeroInicio = int(input(\"Ingrese el numero de inicio\"))\n",
    "            numeroFin = int(input(\"Ingrese el numero de fin\"))\n",
    "\n",
    "            if numeroInicio > numeroFin:\n",
    "                 print(\"El número de inicio debe ser menor o igual al de fin.\")\n",
    "                 continue\n",
    "            \n",
    "            print(\"Mostrando los números del rango:\")\n",
    "            while numeroInicio <= numeroFin:\n",
    "                print(numeroInicio)\n",
    "                numeroInicio += 1\n",
    "            \n",
    "            salir = input(\"¿Deseas ingresar otro rango? (s/n): \")\n",
    "            if salir.lower() != 's':\n",
    "                print(\"Saliendo del programa.\")\n",
    "                break\n",
    "\n",
    "        except ValueError:\n",
    "            print(\"Error en todo\")\n",
    "   \n",
    "if __name__==\"__main__\":\n",
    "    IngresoNumeros()"
   ]
  },
  {
   "cell_type": "markdown",
   "id": "29449a50",
   "metadata": {},
   "source": [
    "### Escribe un programa para calcular cuántos días tomará que la colonia de una bacteria A supere o iguale a la colonia de una bacteria B, basado en tasas de crecimiento del 3% y 1.5%, respectivamente. Supón que la colonia A comienza con 4 elementos y B con 10."
   ]
  },
  {
   "cell_type": "code",
   "execution_count": null,
   "id": "5853fda0",
   "metadata": {},
   "outputs": [],
   "source": [
    "coloniaA = 4\n",
    "coloniaB=10\n",
    "\n"
   ]
  }
 ],
 "metadata": {
  "kernelspec": {
   "display_name": "venv",
   "language": "python",
   "name": "python3"
  },
  "language_info": {
   "codemirror_mode": {
    "name": "ipython",
    "version": 3
   },
   "file_extension": ".py",
   "mimetype": "text/x-python",
   "name": "python",
   "nbconvert_exporter": "python",
   "pygments_lexer": "ipython3",
   "version": "3.13.1"
  }
 },
 "nbformat": 4,
 "nbformat_minor": 5
}
