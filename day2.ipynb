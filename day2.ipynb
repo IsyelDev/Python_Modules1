{
 "cells": [
  {
   "cell_type": "code",
   "execution_count": null,
   "id": "154df010",
   "metadata": {},
   "outputs": [],
   "source": [
    "\"\"\"\n",
    "Entrenando la programación\n",
    "\n",
    "12 - Un establecimiento está vendiendo combustibles con descuentos variables. Para el etanol, si la cantidad comprada es de hasta 15 litros, el descuento será del 2% por litro. En caso contrario, será del 4% por litro. Para el diésel, si la cantidad comprada es de hasta 15 litros, el descuento será del 3% por litro. En caso contrario, será del 5% por litro. El precio por litro de diésel es de R$ 2,00 y el precio por litro de etanol es de R$ 1,70. Escribe un programa que lea la cantidad de litros vendidos y el tipo de combustible (E para etanol y D para diésel) y calcule el valor a pagar por el cliente. Ten en cuenta algunas sugerencias:\n",
    "\n",
    "El valor del descuento será el producto del precio por litro, la cantidad de litros y el valor del descuento.\n",
    "El valor a pagar por un cliente será el resultado de la multiplicación del precio por litro por la cantidad de litros menos el valor del descuento resultante del cálculo.\n",
    "13 - En una empresa de venta de bienes raíces, debes crear un código que analice los datos de ventas anuales para ayudar a la dirección en la toma de decisiones. El código debe recopilar los datos de cantidad de ventas durante los años 2022 y 2023 y calcular la variación porcentual. A partir del valor de la variación, se deben proporcionar las siguientes sugerencias:\n",
    "\n",
    "Para una variación superior al 20%: bonificación para el equipo de ventas.\n",
    "Para una variación entre el 2% y el 20%: pequeña bonificación para el equipo de ventas.\n",
    "Para una variación entre el 2% y el -10%: planificación de políticas de incentivo a las ventas.\n",
    "Para bonificaciones inferiores al -10%: recorte de gastos.\n",
    "\"\"\""
   ]
  },
  {
   "cell_type": "code",
   "execution_count": null,
   "id": "bc1e053a",
   "metadata": {},
   "outputs": [],
   "source": [
    "\"\"\"\n",
    "1 - Escribe un programa que pida a la persona usuaria que proporcione dos números y muestre el número más grande.\n",
    "\"\"\""
   ]
  },
  {
   "cell_type": "code",
   "execution_count": null,
   "id": "862ea281",
   "metadata": {},
   "outputs": [],
   "source": [
    "def ingresaNumero(mensaje):\n",
    "    while True:\n",
    "        try:\n",
    "            return int(input(mensaje))\n",
    "        except ValueError:\n",
    "            print(\"Entrada inválida. Por favor, ingresa un número.\")\n",
    "\n",
    "def verificarNumero():\n",
    "       n1 = ingresaNumero(\"Ingresa el primer numero\")\n",
    "       n2 = ingresaNumero(\"Ingresa el segundo numero\")\n",
    "       if n1 > n2:\n",
    "           print(f'Numero {n1} es mayor')\n",
    "       elif n2>n1:\n",
    "           print(f'Numero {n2} es mayor')\n",
    "       else:\n",
    "           print(\"ambos son iguales\")\n",
    "        \n",
    "if __name__==\"__main__\":\n",
    "    verificarNumero()"
   ]
  },
  {
   "cell_type": "markdown",
   "id": "4e6457c2",
   "metadata": {},
   "source": [
    "### 2 - Escribe un programa que solicite el porcentaje de crecimiento de producción de una empresa e informe si hubo un crecimiento (porcentaje positivo) o una disminución (porcentaje negativo)."
   ]
  },
  {
   "cell_type": "code",
   "execution_count": 16,
   "id": "2a6a9848",
   "metadata": {},
   "outputs": [
    {
     "name": "stdout",
     "output_type": "stream",
     "text": [
      "Porcentaje Negativo\n",
      "Termino de la app\n"
     ]
    }
   ],
   "source": [
    "def PorcentajeCrecimiento(mensaje):\n",
    "    while True:\n",
    "       try:\n",
    "          return int(input(mensaje))\n",
    "       except ValueError:\n",
    "          print(\"Ingrese un valor Numerico\")\n",
    "\n",
    "def VerificarCrecimiento():\n",
    "    valor = PorcentajeCrecimiento(\"Ingrese el porcentaje de produccion\")\n",
    "    if valor > 0:\n",
    "        print(\"Porcentaje POSITIVO\")\n",
    "    else:\n",
    "        print(\"Porcentaje Negativo\")\n",
    "    print(\"Termino de la app\")\n",
    "\n",
    "if __name__==\"__main__\":\n",
    "    VerificarCrecimiento()"
   ]
  },
  {
   "cell_type": "markdown",
   "id": "73ce8589",
   "metadata": {},
   "source": [
    "\n",
    "#### 3 - Escribe un programa que determine si una letra proporcionada por la persona usuaria es una vocal o una consonante.\n"
   ]
  },
  {
   "cell_type": "code",
   "execution_count": null,
   "id": "defd62a7",
   "metadata": {},
   "outputs": [
    {
     "name": "stdout",
     "output_type": "stream",
     "text": [
      "Error debe ingresar una cadena de texto\n",
      "Error debe ingresar una cadena de texto\n",
      "Error debe ingresar una cadena de texto\n",
      "Es una consonante\n"
     ]
    }
   ],
   "source": [
    "def ingresoData(mensaje):\n",
    "    while True:\n",
    "            letra = input(mensaje)\n",
    "            if letra.isalpha() or len(letra)==1:\n",
    "                return letra.islower\n",
    "            else:\n",
    "               print(\"Error debe ingresar una cadena de texto\")\n",
    "    \n",
    "def verificarVocal():\n",
    "    vocales = \"aeiou\"  # Lista de vocales en minúscula\n",
    "    vocal = ingresoData(\"Ingrese un texto\")\n",
    "    if vocal in vocales:\n",
    "        print(\"Es una vocal\")\n",
    "    else:\n",
    "        print(\"Es una consonante\")\n",
    "\n",
    "if __name__ == \"__main__\":\n",
    "    verificarVocal()"
   ]
  },
  {
   "cell_type": "markdown",
   "id": "7a8ad772",
   "metadata": {},
   "source": [
    "### 4 - Escribe un programa que lea valores promedio de precios de un modelo de automóvil durante 3 años consecutivos y muestre el valor más alto y más bajo entre esos tres años."
   ]
  },
  {
   "cell_type": "code",
   "execution_count": null,
   "id": "71330450",
   "metadata": {},
   "outputs": [
    {
     "name": "stdout",
     "output_type": "stream",
     "text": [
      "El valor Maximo es 20.0 y el valor minimo 10.5\n"
     ]
    }
   ],
   "source": [
    "def ingresaNumero(mensaje:str)->float:\n",
    "    while True:\n",
    "        try:\n",
    "            return float(input(mensaje))\n",
    "        except ValueError:\n",
    "            print(\"Imprimos los valores\")\n",
    "\n",
    "def AgregamosValores():\n",
    "   precio_ano1 = ingresaNumero('Ingrese el precio promedio del automóvil en el primer año: ')\n",
    "   precio_ano2 = ingresaNumero('Ingrese el precio promedio del automóvil en el segundo año: ')\n",
    "   precio_ano3 = ingresaNumero('Ingrese el precio promedio del automóvil en el tercer año: ')\n",
    "   \n",
    "   precios =[precio_ano1,precio_ano2,precio_ano3]\n",
    "\n",
    "   valorMinimo = min(precios)\n",
    "   valorMaximo = max(precios)\n",
    "   \n",
    "   return f\"El valor Maximo es {valorMaximo} y el valor minimo {valorMinimo}\"\n",
    "\n",
    "if __name__ == \"__main__\":\n",
    "    value = AgregamosValores()\n",
    "    print(value)"
   ]
  },
  {
   "cell_type": "markdown",
   "id": "f0b5b774",
   "metadata": {},
   "source": [
    "\"\"\"\n",
    "### 6 - Escribe un programa que lea tres números y los muestre en orden descendente.\n",
    "\"\"\""
   ]
  },
  {
   "cell_type": "code",
   "execution_count": 30,
   "id": "d9bacc18",
   "metadata": {},
   "outputs": [
    {
     "name": "stdout",
     "output_type": "stream",
     "text": [
      "[65612, 625, 15]\n"
     ]
    }
   ],
   "source": [
    "def ingresaNumero(mensaje:str)->int:\n",
    "   while True:\n",
    "        try:\n",
    "            return int(input(mensaje))  # Convertir la entrada a entero\n",
    "        except ValueError:\n",
    "            print(\"Error: Debes ingresar un valor numérico válido.\")  # Mensaje de error si no es un número\n",
    "\n",
    "def orden()->list:\n",
    "    lista = []\n",
    "    for i in range(3):\n",
    "       n = ingresaNumero(f\"Ingrese el valor {i+1}\")\n",
    "       lista.append(n)\n",
    "    return lista\n",
    "\n",
    "\n",
    "def ordenar_lista(lista: list) -> list:\n",
    "    lista.sort(reverse=True)\n",
    "    return lista\n",
    "\n",
    "def main():\n",
    "    lista = orden()\n",
    "    resultado = ordenar_lista(lista)\n",
    "    print(resultado)\n",
    "\n",
    "if __name__==\"__main__\":\n",
    "    main()"
   ]
  },
  {
   "cell_type": "code",
   "execution_count": null,
   "id": "8951978d",
   "metadata": {},
   "outputs": [],
   "source": [
    "\"\"\"\n",
    "5 - Escribe un programa que pregunte sobre el precio de tres productos e indique cuál es el producto más barato para comprar.\n",
    "\"\"\""
   ]
  },
  {
   "cell_type": "code",
   "execution_count": null,
   "id": "5505cd3d",
   "metadata": {},
   "outputs": [],
   "source": []
  },
  {
   "cell_type": "code",
   "execution_count": null,
   "id": "a907c207",
   "metadata": {},
   "outputs": [
    {
     "name": "stdout",
     "output_type": "stream",
     "text": [
      "Bienvenido a tu supermercado\n",
      "valor Minimo12.0\n"
     ]
    }
   ],
   "source": [
    "def ingresar_precio(mensaje: str) -> float:\n",
    "    \"\"\"\n",
    "    Solicita al usuario un precio y maneja la entrada incorrecta.\n",
    "\n",
    "    Parámetros:\n",
    "        mensaje (str): El mensaje a mostrar al usuario para pedir la entrada.\n",
    "\n",
    "    Retorna:\n",
    "        float: El valor ingresado por el usuario como número flotante.\n",
    "    \"\"\"\n",
    "    while True:\n",
    "        try:\n",
    "            precio = float(input(mensaje))  # Intenta convertir a float\n",
    "            if precio < 0:\n",
    "                print(\"Error: El precio no puede ser negativo. Intenta de nuevo.\")\n",
    "                continue  # Volver a pedir el precio si es negativo\n",
    "            return precio  # Retorna el precio si es válido\n",
    "        except ValueError:\n",
    "            print(\"Error: Debes ingresar un valor numérico válido.\")  # Mensaje en caso de error\n",
    "\n",
    "def obtener_valores_automovil() -> dict:\n",
    "    \"\"\"\n",
    "    Solicita al usuario los precios del automóvil en tres años.\n",
    "\n",
    "    Retorna:\n",
    "        dict: Un diccionario con los precios por año.\n",
    "    \"\"\"\n",
    "    precios = {\n",
    "        'Año 1': ingresar_precio(\"Ingrese el precio promedio del automóvil en el primer año: \"),\n",
    "        'Año 2': ingresar_precio(\"Ingrese el precio promedio del automóvil en el segundo año: \"),\n",
    "        'Año 3': ingresar_precio(\"Ingrese el precio promedio del automóvil en el tercer año: \")\n",
    "    }\n",
    "    return precios\n",
    "\n",
    "def calcular_valores_extremos(precios: dict) -> str:\n",
    "    \"\"\"\n",
    "    Calcula el valor máximo y mínimo a partir de los precios ingresados.\n",
    "\n",
    "    Parámetros:\n",
    "        precios (dict): Diccionario con los precios de los tres años.\n",
    "\n",
    "    Retorna:\n",
    "        str: Mensaje con los valores máximo y mínimo.\n",
    "    \"\"\"\n",
    "    valor_maximo = max(precios.values())  # Obtener el valor máximo de los precios\n",
    "    valor_minimo = min(precios.values())  # Obtener el valor mínimo de los precios\n",
    "    return f\"El valor máximo es {valor_maximo} y el valor mínimo es {valor_minimo}\"\n",
    "\n",
    "def main() -> None:\n",
    "    \"\"\"\n",
    "    Función principal que orquesta el flujo del programa.\n",
    "    \"\"\"\n",
    "    print(\"Bienvenido al sistema de cálculo de precios de automóvil por años.\")\n",
    "    \n",
    "    precios = obtener_valores_automovil()  # Obtener los precios\n",
    "    resultado = calcular_valores_extremos(precios)  # Calcular valores extremos (máximo y mínimo)\n",
    "    \n",
    "    print(resultado)  # Imprimir el resultado final\n",
    "\n",
    "if __name__ == \"__main__\":\n",
    "    main()\n",
    "\n"
   ]
  },
  {
   "cell_type": "markdown",
   "id": "4575eb5b",
   "metadata": {},
   "source": [
    "### 7 -Escribe un programa que pregunte en qué turno estudia la persona usuaria (\"mañana\", \"tarde\" o \"noche\") y muestre el mensaje \n",
    "\"¡Buenos Días!\", \"¡Buenas Tardes!\", \"¡Buenas Noches!\" o \"Valor Inválido!\", según el caso."
   ]
  },
  {
   "cell_type": "code",
   "execution_count": null,
   "id": "398b0561",
   "metadata": {},
   "outputs": [],
   "source": []
  },
  {
   "cell_type": "code",
   "execution_count": null,
   "id": "ffebabe7",
   "metadata": {},
   "outputs": [
    {
     "data": {
      "text/plain": [
       "'\\n'"
      ]
     },
     "execution_count": 20,
     "metadata": {},
     "output_type": "execute_result"
    }
   ],
   "source": [
    "\n",
    "\n",
    "\n",
    "\n",
    "\n",
    "\"\"\"\n",
    "\n",
    "\n",
    "\n",
    "8 - Escribe un programa que solicite un número entero a la persona usuaria y determine si es par o impar. Pista: Puedes usar el operador módulo (%).\n",
    "\n",
    "9 - Escribe un programa que pida un número a la persona usuaria y le informe si es entero o decimal.\n",
    "\n",
    "Momento de los proyectos\n",
    "\n",
    "10 - Un programa debe ser escrito para leer dos números y luego preguntar a la persona usuaria qué operación desea realizar. El resultado de la operación debe incluir información sobre el número, si es par o impar, positivo o negativo, e entero o decimal.\n",
    "\n",
    "11 - Escribe un programa que pida a la persona usuaria tres números que representan los lados de un triángulo. El programa debe informar si los valores pueden utilizarse para formar un triángulo y, en caso afirmativo, si es equilátero, isósceles o escaleno. Ten en cuenta algunas sugerencias:\n",
    "\n",
    "Tres lados forman un triángulo cuando la suma de cualesquiera dos lados es mayor que el tercero;\n",
    "Triángulo Equilátero: tres lados iguales;\n",
    "Triángulo Isósceles: dos lados iguales;\n",
    "Triángulo Escaleno: tres lados diferentes.\n",
    "\"\"\"\n",
    "\"\"\"\n",
    "\"\"\"\n",
    "\"\"\"\n",
    "\"\"\"\n",
    "\"\"\"\n",
    "\"\"\"\n",
    "\n",
    "\n",
    "\n",
    "\n",
    "\n",
    "\n",
    "\n",
    "\n",
    "\n"
   ]
  },
  {
   "cell_type": "code",
   "execution_count": null,
   "id": "2fda3011",
   "metadata": {},
   "outputs": [],
   "source": [
    "\n"
   ]
  },
  {
   "cell_type": "code",
   "execution_count": null,
   "id": "971ec704",
   "metadata": {},
   "outputs": [],
   "source": []
  }
 ],
 "metadata": {
  "kernelspec": {
   "display_name": "venv",
   "language": "python",
   "name": "python3"
  },
  "language_info": {
   "codemirror_mode": {
    "name": "ipython",
    "version": 3
   },
   "file_extension": ".py",
   "mimetype": "text/x-python",
   "name": "python",
   "nbconvert_exporter": "python",
   "pygments_lexer": "ipython3",
   "version": "3.13.1"
  }
 },
 "nbformat": 4,
 "nbformat_minor": 5
}
