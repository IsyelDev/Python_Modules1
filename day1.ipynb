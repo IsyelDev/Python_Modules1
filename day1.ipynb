{
 "cells": [
  {
   "cell_type": "code",
   "execution_count": 6,
   "id": "d4c5051b",
   "metadata": {},
   "outputs": [
    {
     "name": "stdout",
     "output_type": "stream",
     "text": [
      "Hola , e\n",
      "Hola ,e , tienes 15 años\n",
      "Hola ,e , tienes 15 años y mides 1.80 metros\n"
     ]
    }
   ],
   "source": [
    "\"\"\"\n",
    "1 - Crea un programa que solicite al usuario que escriba su nombre y luego imprima \"Hola, [nombre].\" \n",
    "\"\"\"\n",
    "nombre = input(\"Ingrese su nombre\")\n",
    "print(f\"Hola , {nombre}\")\n",
    "\"\"\" \n",
    "2 - Crea un programa que solicite al usuario que escriba su nombre y edad, y luego imprima \"Hola, [nombre], tienes [edad] años.\"\n",
    "\"\"\"\n",
    "nombre = input(\"Ingrese su nombre\")\n",
    "edad = int(input(\"Ingrese su edad\"))\n",
    "print(f'Hola ,{nombre} , tienes {edad} años')\n",
    "\"\"\"\n",
    "3 - Crea un programa que solicite al usuario que escriba su nombre, edad y altura en metros, y luego imprima \"Hola, [nombre], tienes [edad] años y mides [altura] metros.\"\n",
    "\"\"\"\n",
    "nombre = input(\"Ingrese su nombre\")\n",
    "edad = int(input(\"Ingrese su edad\"))\n",
    "altura = float(input(\"Ingrese su altura\"))\n",
    "print(f'Hola ,%s , tienes %d años y mides %.2f metros'%(nombre,edad,altura))\n"
   ]
  },
  {
   "cell_type": "code",
   "execution_count": null,
   "id": "f17ab0c5",
   "metadata": {},
   "outputs": [],
   "source": [
    "\"\"\"\n",
    "4 - Crea un programa que solicite dos valores numéricos al usuario y luego imprima la suma de ambos valores.\n",
    "\n",
    "5 - Crea un programa que solicite tres valores numéricos al usuario y luego imprima la suma de los tres valores.\n",
    "\n",
    "6 - Crea un programa que solicite dos valores numéricos al usuario y luego imprima la resta del primero menos el segundo valor.\n",
    "\n",
    "7 - Crea un programa que solicite dos valores numéricos al usuario y luego imprima la multiplicación de los dos valores.\n",
    "\n",
    "8 - Crea un programa que solicite dos valores numéricos, un numerador y un denominador, y realice la división entre los dos valores. Asegúrate de que el valor del denominador no sea igual a 0.\n",
    "\n",
    "9 - Crea un programa que solicite dos valores numéricos, un operador y una potencia, y realice la exponenciación entre estos dos valores.\n",
    "\n",
    "10 - Crea un programa que solicite dos valores numéricos, un numerador y un denominador, y realice la división entera entre los dos valores. Asegúrate de que el valor del denominador no sea igual a 0.\n",
    "\n",
    "11 - Crea un programa que solicite dos valores numéricos, un numerador y un denominador, y devuelva el resto de la división entre los dos valores. Asegúrate de que el valor del denominador no sea igual a 0.\n",
    "\n",
    "12 - Crea un código que solicite las 3 notas de un estudiante e imprima el promedio de las notas.\n",
    "\n",
    "13 - Crea un código que calcule e imprima el promedio ponderado de los números 5, 12, 20 y 15 con pesos respectivamente iguales a 1, 2, 3 y 4.\n",
    "\"\"\""
   ]
  },
  {
   "cell_type": "code",
   "execution_count": 8,
   "id": "5bde3fe4",
   "metadata": {},
   "outputs": [
    {
     "name": "stdout",
     "output_type": "stream",
     "text": [
      "El resultado de 15 + 30 es 45\n"
     ]
    }
   ],
   "source": [
    "numeroUno = int(input(\"INGRESE EL PRIMER VALOR\"))\n",
    "numeroDos = int(input(\"INGRESE EL SEGUNDO VALOR\"))\n",
    "suma = numeroUno + numeroDos\n",
    "print(f\"El resultado de {numeroUno} + {numeroDos} es %d\"%(suma))\n"
   ]
  },
  {
   "cell_type": "code",
   "execution_count": 11,
   "id": "65bac7ff",
   "metadata": {},
   "outputs": [
    {
     "name": "stdout",
     "output_type": "stream",
     "text": [
      "7.5\n"
     ]
    }
   ],
   "source": [
    "numeroUno = int(input(\"INGRESE EL PRIMER VALOR\"))\n",
    "numeroDos = int(input(\"INGRESE EL SEGUNDO VALOR\"))\n",
    "if numeroDos==0 :\n",
    "    print(\"Error\")\n",
    "\n",
    "print(numeroUno/numeroDos)\n"
   ]
  },
  {
   "cell_type": "code",
   "execution_count": 13,
   "id": "08a3c274",
   "metadata": {},
   "outputs": [
    {
     "name": "stdout",
     "output_type": "stream",
     "text": [
      "100\n"
     ]
    }
   ],
   "source": [
    "numerador = int(input(\"INGRESE EL PRIMER VALOR\"))\n",
    "denominador = int(input(\"INGRESE EL SEGUNDO VALOR\"))\n",
    "potencia = numerador**denominador\n",
    "print(potencia)"
   ]
  },
  {
   "cell_type": "code",
   "execution_count": 16,
   "id": "a951b4a7",
   "metadata": {},
   "outputs": [
    {
     "name": "stdout",
     "output_type": "stream",
     "text": [
      "13.0\n"
     ]
    }
   ],
   "source": [
    "p1 = 5\n",
    "p2 =12\n",
    "p3 =20\n",
    "p4 =15\n",
    "\n",
    "calificaciones = (p1,p2,p3,p4)\n",
    "ponderado = sum(calificaciones)/len(calificaciones)\n",
    "print(ponderado)\n"
   ]
  },
  {
   "cell_type": "code",
   "execution_count": 19,
   "id": "3a28666a",
   "metadata": {},
   "outputs": [
    {
     "name": "stdout",
     "output_type": "stream",
     "text": [
      "MANUEL\n"
     ]
    }
   ],
   "source": [
    "nombre = input(\"ENTER IN NAME\")\n",
    "print(nombre.upper())"
   ]
  },
  {
   "cell_type": "code",
   "execution_count": 20,
   "id": "d174d689",
   "metadata": {},
   "outputs": [
    {
     "name": "stdout",
     "output_type": "stream",
     "text": [
      "manuel\n"
     ]
    }
   ],
   "source": [
    "minuscula = nombre.lower()\n",
    "print(minuscula)"
   ]
  },
  {
   "cell_type": "code",
   "execution_count": 30,
   "id": "d9eac5d3",
   "metadata": {},
   "outputs": [
    {
     "name": "stdout",
     "output_type": "stream",
     "text": [
      "\t La virgen de LUJANs \n",
      "l@ virgfn df luj@n$\n"
     ]
    }
   ],
   "source": [
    "frase = \"\\t La virgen de LUJANs \" \n",
    "print(frase)\n",
    "sin_espacio =frase.strip().lower().replace(\"e\",\"f\").replace(\"a\",\"@\").replace(\"s\",\"$\")\n",
    "print(sin_espacio)"
   ]
  },
  {
   "cell_type": "code",
   "execution_count": null,
   "id": "b44291d6",
   "metadata": {},
   "outputs": [],
   "source": []
  }
 ],
 "metadata": {
  "kernelspec": {
   "display_name": "venv",
   "language": "python",
   "name": "python3"
  },
  "language_info": {
   "codemirror_mode": {
    "name": "ipython",
    "version": 3
   },
   "file_extension": ".py",
   "mimetype": "text/x-python",
   "name": "python",
   "nbconvert_exporter": "python",
   "pygments_lexer": "ipython3",
   "version": "3.13.1"
  }
 },
 "nbformat": 4,
 "nbformat_minor": 5
}
